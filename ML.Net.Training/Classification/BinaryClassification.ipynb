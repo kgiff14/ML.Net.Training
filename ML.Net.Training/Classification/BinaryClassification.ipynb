{
 "cells": [
  {
   "cell_type": "markdown",
   "metadata": {},
   "source": [
    "1. Nuget Packages"
   ]
  },
  {
   "cell_type": "code",
   "execution_count": null,
   "metadata": {
    "dotnet_interactive": {
     "language": "csharp"
    },
    "vscode": {
     "languageId": "dotnet-interactive.csharp"
    }
   },
   "outputs": [],
   "source": [
    "#r \"nuget:Microsoft.ML,*-*\"\n",
    "#r \"nuget:Microsoft.Data.Analysis, *-*\"\n",
    "#r \"nuget:Microsoft.DotNet.Interactive.ExtensionLab,*-*\""
   ]
  },
  {
   "cell_type": "code",
   "execution_count": null,
   "metadata": {
    "dotnet_interactive": {
     "language": "csharp"
    },
    "vscode": {
     "languageId": "dotnet-interactive.csharp"
    }
   },
   "outputs": [],
   "source": [
    "using Microsoft.ML;\n",
    "using Microsoft.ML.Data;\n",
    "using Microsoft.Data.Analysis;\n",
    "\n",
    "using System.IO;\n",
    "using System.Text;"
   ]
  },
  {
   "cell_type": "markdown",
   "metadata": {},
   "source": [
    "2. Data Models"
   ]
  },
  {
   "cell_type": "code",
   "execution_count": null,
   "metadata": {
    "dotnet_interactive": {
     "language": "csharp"
    },
    "vscode": {
     "languageId": "dotnet-interactive.csharp"
    }
   },
   "outputs": [],
   "source": [
    "public class Penguin\n",
    "{\n",
    "    [LoadColumn(0)]\n",
    "    public bool Label {get;set;}\n",
    "\n",
    "    [LoadColumn(2)]\n",
    "    public float CulmenLength {get;set;}\n",
    "\n",
    "    [LoadColumn(3)]\n",
    "    public float CulmenDepth {get;set;}\n",
    "}\n",
    "\n",
    "public class Predictions\n",
    "{\n",
    "    public bool PredictedLabel{get;set;}\n",
    "}"
   ]
  },
  {
   "cell_type": "markdown",
   "metadata": {},
   "source": [
    "3. Load and Split Data"
   ]
  },
  {
   "cell_type": "code",
   "execution_count": null,
   "metadata": {
    "dotnet_interactive": {
     "language": "csharp"
    },
    "vscode": {
     "languageId": "dotnet-interactive.csharp"
    }
   },
   "outputs": [],
   "source": [
    "var mlContext = new MLContext();\n",
    "var trainingDataView = mlContext.Data.LoadFromTextFile<Penguin>(\"../../ML.Net.Training/Datasets/penguins_size_binary.csv\", hasHeader: true, separatorChar: ',');\n",
    "var dataSplit = mlContext.Data.TrainTestSplit(trainingDataView, testFraction: 0.3);"
   ]
  },
  {
   "cell_type": "code",
   "execution_count": null,
   "metadata": {
    "dotnet_interactive": {
     "language": "csharp"
    },
    "vscode": {
     "languageId": "dotnet-interactive.csharp"
    }
   },
   "outputs": [],
   "source": [
    "dataSplit.TestSet.ToTabularDataResource().Display();"
   ]
  },
  {
   "cell_type": "markdown",
   "metadata": {},
   "source": [
    "4. Train the Model"
   ]
  },
  {
   "cell_type": "code",
   "execution_count": null,
   "metadata": {
    "dotnet_interactive": {
     "language": "csharp"
    },
    "vscode": {
     "languageId": "dotnet-interactive.csharp"
    }
   },
   "outputs": [],
   "source": [
    "var model = mlContext.BinaryClassification.Trainers.LbfgsLogisticRegression(labelColumnName: \"Label\", featureColumnName: \"Features\");\n",
    "\n",
    "var pipeline = mlContext.Transforms.Concatenate(\"Features\", \n",
    "                nameof(Penguin.CulmenLength),\n",
    "                nameof(Penguin.CulmenDepth))\n",
    "                .Append(mlContext.Transforms.NormalizeMinMax(\"Features\", \"Features\")\n",
    "                .Append(model));\n",
    "\n",
    "var trainedModel = pipeline.Fit(dataSplit.TrainSet);"
   ]
  },
  {
   "cell_type": "markdown",
   "metadata": {},
   "source": [
    "5. Evaluate Model"
   ]
  },
  {
   "cell_type": "code",
   "execution_count": null,
   "metadata": {
    "dotnet_interactive": {
     "language": "csharp"
    },
    "vscode": {
     "languageId": "dotnet-interactive.csharp"
    }
   },
   "outputs": [],
   "source": [
    "var testSetTransform = trainedModel.Transform(dataSplit.TestSet);\n",
    "var metrics = mlContext.BinaryClassification.Evaluate(testSetTransform);"
   ]
  },
  {
   "cell_type": "code",
   "execution_count": null,
   "metadata": {
    "dotnet_interactive": {
     "language": "csharp"
    },
    "vscode": {
     "languageId": "dotnet-interactive.csharp"
    }
   },
   "outputs": [],
   "source": [
    "metrics.Accuracy"
   ]
  },
  {
   "cell_type": "markdown",
   "metadata": {},
   "source": [
    "6. Save Model"
   ]
  },
  {
   "cell_type": "code",
   "execution_count": null,
   "metadata": {
    "dotnet_interactive": {
     "language": "csharp"
    },
    "vscode": {
     "languageId": "dotnet-interactive.csharp"
    }
   },
   "outputs": [],
   "source": [
    "//ML.Net models are saved in the .mdl extension\n",
    "mlContext.Model.Save(trainedModel, dataSplit.TrainSet.Schema, \"./BinaryClassificationModel.mdl\");"
   ]
  },
  {
   "cell_type": "markdown",
   "metadata": {},
   "source": [
    "7. Load Model and Predict"
   ]
  },
  {
   "cell_type": "code",
   "execution_count": null,
   "metadata": {
    "dotnet_interactive": {
     "language": "csharp"
    },
    "vscode": {
     "languageId": "dotnet-interactive.csharp"
    }
   },
   "outputs": [],
   "source": [
    "var newSample = new Penguin\n",
    "{\n",
    "    CulmenDepth = 18.4f,\n",
    "    CulmenLength = 40.8f\n",
    "};\n",
    "\n",
    "using (var stream = new FileStream(\"./BinaryClassificationModel.mdl\", FileMode.Open, FileAccess.Read, FileShare.Read))\n",
    "{\n",
    "    var loadedModel = mlContext.Model.Load(stream, out _);\n",
    "    var predictionEngine = mlContext.Model.CreatePredictionEngine<Penguin, Predictions>(loadedModel);\n",
    "    var results = predictionEngine.Predict(newSample);\n",
    "\n",
    "    results.Display();\n",
    "}"
   ]
  }
 ],
 "metadata": {
  "kernelspec": {
   "display_name": ".NET (C#)",
   "language": "C#",
   "name": ".net-csharp"
  },
  "language_info": {
   "file_extension": ".cs",
   "mimetype": "text/x-csharp",
   "name": "C#",
   "pygments_lexer": "csharp",
   "version": "9.0"
  },
  "orig_nbformat": 4,
  "vscode": {
   "interpreter": {
    "hash": "369f2c481f4da34e4445cda3fffd2e751bd1c4d706f27375911949ba6bb62e1c"
   }
  }
 },
 "nbformat": 4,
 "nbformat_minor": 2
}
