{
 "cells": [
  {
   "cell_type": "markdown",
   "metadata": {
    "dotnet_interactive": {
     "language": "csharp"
    }
   },
   "source": [
    "1. NuGet Packages"
   ]
  },
  {
   "cell_type": "code",
   "execution_count": null,
   "metadata": {
    "dotnet_interactive": {
     "language": "csharp"
    },
    "vscode": {
     "languageId": "dotnet-interactive.csharp"
    }
   },
   "outputs": [],
   "source": [
    "#r \"nuget:Microsoft.ML,*-*\"\n",
    "#r \"nuget:Microsoft.Data.Analysis, *-*\"\n",
    "#r \"nuget:Microsoft.DotNet.Interactive.ExtensionLab,*-*\""
   ]
  },
  {
   "cell_type": "code",
   "execution_count": null,
   "metadata": {
    "dotnet_interactive": {
     "language": "csharp"
    },
    "vscode": {
     "languageId": "dotnet-interactive.csharp"
    }
   },
   "outputs": [],
   "source": [
    "using Microsoft.ML;\n",
    "using Microsoft.ML.Data;\n",
    "using Microsoft.Data.Analysis;\n",
    "\n",
    "using System.IO;\n",
    "using System.Text;"
   ]
  },
  {
   "cell_type": "markdown",
   "metadata": {},
   "source": [
    "2. Data Models"
   ]
  },
  {
   "cell_type": "code",
   "execution_count": null,
   "metadata": {
    "dotnet_interactive": {
     "language": "csharp"
    },
    "vscode": {
     "languageId": "dotnet-interactive.csharp"
    }
   },
   "outputs": [],
   "source": [
    "public class HousingData\n",
    "{\n",
    "    [LoadColumn(0)]\n",
    "    public float CrimeRate {get;set;}\n",
    "\n",
    "    [LoadColumn(1)]\n",
    "    public float Zoned {get;set;}\n",
    "\n",
    "    [LoadColumn(2)]\n",
    "    public float Proportion {get;set;}\n",
    "\n",
    "    [LoadColumn(3)]\n",
    "    public float RiverCoast {get;set;}\n",
    "\n",
    "    [LoadColumn(4)]\n",
    "    public float NOConcentration {get;set;}\n",
    "\n",
    "    [LoadColumn(5)]\n",
    "    public float NumOfRoomsPerDwelling {get;set;}\n",
    "\n",
    "    [LoadColumn(6)]\n",
    "    public float Age {get;set;}\n",
    "\n",
    "    [LoadColumn(7)]\n",
    "    public float EmployCenterDistance {get;set;}\n",
    "\n",
    "    [LoadColumn(8)]\n",
    "    public float HighwayAccessabilityRadius {get;set;}\n",
    "\n",
    "    [LoadColumn(9)]\n",
    "    public float TaxRate {get;set;}\n",
    "\n",
    "    [LoadColumn(10)]\n",
    "    public float PTRatio {get;set;}\n",
    "\n",
    "    [LoadColumn(11)]\n",
    "    public float MedianPrice {get;set;}\n",
    "}\n",
    "\n",
    "public class PricePredictions\n",
    "{\n",
    "    //Probability/estimations of continous values are found in Score column - ML.Net\n",
    "    [ColumnName(\"Score\")]\n",
    "    public float MedianPrice {get;set;}\n",
    "}"
   ]
  },
  {
   "cell_type": "markdown",
   "metadata": {},
   "source": [
    "3. Load and split the data"
   ]
  },
  {
   "cell_type": "code",
   "execution_count": null,
   "metadata": {
    "dotnet_interactive": {
     "language": "csharp"
    },
    "vscode": {
     "languageId": "dotnet-interactive.csharp"
    }
   },
   "outputs": [],
   "source": [
    "var mlContext = new MLContext();\n",
    "\n",
    "var data = mlContext.Data.LoadFromTextFile<HousingData>(\"../../ML.Net.Training/Datasets/boston_housing.csv\", hasHeader: true, separatorChar: ',');\n",
    "\n",
    "//Usually want to take 20% of your complete data set to train. Of course you can play with this number to aid in accuracy\n",
    "var dataSplit = mlContext.Data.TrainTestSplit(data, testFraction: 0.2);"
   ]
  },
  {
   "cell_type": "code",
   "execution_count": null,
   "metadata": {
    "dotnet_interactive": {
     "language": "csharp"
    },
    "vscode": {
     "languageId": "dotnet-interactive.csharp"
    }
   },
   "outputs": [],
   "source": [
    "//You can visually display your data to check if its loaded correctly\n",
    "//dataSplit.TrainSet.ToTabularDataResource().Display();"
   ]
  },
  {
   "cell_type": "markdown",
   "metadata": {},
   "source": [
    "4. Train the Model(Feature Engineering)"
   ]
  },
  {
   "cell_type": "code",
   "execution_count": null,
   "metadata": {
    "dotnet_interactive": {
     "language": "csharp"
    },
    "vscode": {
     "languageId": "dotnet-interactive.csharp"
    }
   },
   "outputs": [],
   "source": [
    "//SDCA is a linear regression algorithm. You can play with the algorithm to get the results you need\n",
    "var model = mlContext.Regression.Trainers.Sdca(featureColumnName: \"Features\", labelColumnName: \"Label\");\n",
    "\n",
    "//When there is no relationship between integer and label - apply One Hot Encoding. This replaces the column's values with a binary value. \n",
    "//In return, this helps avoid the model from giving more importance to a column that could throw off the model's accuracy.\n",
    "//Remember to normalize your features\n",
    "var pipeline = mlContext.Transforms.CopyColumns(\"Label\", nameof(HousingData.MedianPrice))\n",
    "                .Append(mlContext.Transforms.Categorical.OneHotEncoding(\"RiverCoast\"))\n",
    "                .Append(mlContext.Transforms.Concatenate(\"Features\", \n",
    "                    nameof(HousingData.CrimeRate),\n",
    "                    nameof(HousingData.Zoned),\n",
    "                    nameof(HousingData.Proportion),\n",
    "                    nameof(HousingData.RiverCoast),\n",
    "                    nameof(HousingData.NOConcentration),\n",
    "                    nameof(HousingData.NumOfRoomsPerDwelling),\n",
    "                    nameof(HousingData.Age),\n",
    "                    nameof(HousingData.EmployCenterDistance),\n",
    "                    nameof(HousingData.HighwayAccessabilityRadius),\n",
    "                    nameof(HousingData.TaxRate),\n",
    "                    nameof(HousingData.PTRatio),\n",
    "                    nameof(HousingData.MedianPrice)))\n",
    "                .Append(mlContext.Transforms.NormalizeLpNorm(\"Features\", \"Features\"))\n",
    "                .Append(model);\n",
    "                \n",
    "var trainedModel = pipeline.Fit(dataSplit.TrainSet);"
   ]
  },
  {
   "cell_type": "markdown",
   "metadata": {},
   "source": [
    "5. Evalute the Model"
   ]
  },
  {
   "cell_type": "code",
   "execution_count": null,
   "metadata": {
    "dotnet_interactive": {
     "language": "csharp"
    },
    "vscode": {
     "languageId": "dotnet-interactive.csharp"
    }
   },
   "outputs": [],
   "source": [
    "var testSetTransform = trainedModel.Transform(dataSplit.TestSet);\n",
    "var metrics = mlContext.Regression.Evaluate(testSetTransform);"
   ]
  },
  {
   "cell_type": "code",
   "execution_count": null,
   "metadata": {
    "dotnet_interactive": {
     "language": "csharp"
    },
    "vscode": {
     "languageId": "dotnet-interactive.csharp"
    }
   },
   "outputs": [],
   "source": [
    "//This lets you print out the metrics\n",
    "metrics"
   ]
  },
  {
   "cell_type": "markdown",
   "metadata": {},
   "source": [
    "6. Save the Model"
   ]
  },
  {
   "cell_type": "code",
   "execution_count": null,
   "metadata": {
    "dotnet_interactive": {
     "language": "csharp"
    },
    "vscode": {
     "languageId": "dotnet-interactive.csharp"
    }
   },
   "outputs": [],
   "source": [
    "//ML.Net models are saved in the .mdl extension\n",
    "mlContext.Model.Save(trainedModel, dataSplit.TrainSet.Schema, \"./LinearRegressionModel.mdl\");"
   ]
  },
  {
   "cell_type": "markdown",
   "metadata": {},
   "source": [
    "7. Load the Model and Predict"
   ]
  },
  {
   "cell_type": "code",
   "execution_count": null,
   "metadata": {
    "dotnet_interactive": {
     "language": "csharp"
    },
    "vscode": {
     "languageId": "dotnet-interactive.csharp"
    }
   },
   "outputs": [],
   "source": [
    "var newSample = new HousingData\n",
    "{\n",
    "    Age = 65.2f,\n",
    "    CrimeRate = 0.00632f,\n",
    "    EmployCenterDistance = 4.0900f,\n",
    "    HighwayAccessabilityRadius = 15.3f,\n",
    "    NOConcentration = 0.538f,\n",
    "    NumOfRoomsPerDwelling = 6.575f,\n",
    "    Proportion = 2.31f,\n",
    "    PTRatio = 15.3f,\n",
    "    RiverCoast = 0,\n",
    "    TaxRate = 296f,\n",
    "    Zoned = 18f\n",
    "};\n",
    "\n",
    "using (var stream = new FileStream(\"./LinearRegressionModel.mdl\", FileMode.Open, FileAccess.Read, FileShare.Read))\n",
    "{\n",
    "    var loadedModel = mlContext.Model.Load(stream, out _);\n",
    "    var predictionEngine = mlContext.Model.CreatePredictionEngine<HousingData, PricePredictions>(loadedModel);\n",
    "    \n",
    "    var results = predictionEngine.Predict(newSample);\n",
    "\n",
    "    Console.WriteLine(results.MedianPrice);\n",
    "}\n"
   ]
  }
 ],
 "metadata": {
  "kernelspec": {
   "display_name": ".NET (C#)",
   "language": "C#",
   "name": ".net-csharp"
  },
  "language_info": {
   "file_extension": ".cs",
   "mimetype": "text/x-csharp",
   "name": "C#",
   "pygments_lexer": "csharp",
   "version": "9.0"
  },
  "orig_nbformat": 4
 },
 "nbformat": 4,
 "nbformat_minor": 2
}
