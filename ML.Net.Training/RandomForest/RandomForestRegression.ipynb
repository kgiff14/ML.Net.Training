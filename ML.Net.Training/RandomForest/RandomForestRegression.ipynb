{
 "cells": [
  {
   "cell_type": "markdown",
   "metadata": {},
   "source": [
    "1. Nuget Install"
   ]
  },
  {
   "cell_type": "code",
   "execution_count": null,
   "metadata": {
    "dotnet_interactive": {
     "language": "csharp"
    },
    "vscode": {
     "languageId": "dotnet-interactive.csharp"
    }
   },
   "outputs": [
    {
     "data": {
      "text/html": [
       "<div><div></div><div></div><div><strong>Installed Packages</strong><ul><li><span>Microsoft.Data.Analysis, 0.20.0-preview.22313.1</span></li><li><span>Microsoft.DotNet.Interactive.ExtensionLab, 1.0.0-beta.22504.6</span></li><li><span>Microsoft.ML, 2.0.0-preview.22313.1</span></li><li><span>Microsoft.ML.FastTree, 2.0.0-preview.22313.1</span></li></ul></div></div>"
      ]
     },
     "metadata": {},
     "output_type": "display_data"
    },
    {
     "data": {
      "text/markdown": [
       "Loading extensions from `Microsoft.Data.Analysis.Interactive.dll`"
      ]
     },
     "metadata": {},
     "output_type": "display_data"
    },
    {
     "data": {
      "text/markdown": [
       "Loading extensions from `Microsoft.DotNet.Interactive.ExtensionLab.dll`"
      ]
     },
     "metadata": {},
     "output_type": "display_data"
    },
    {
     "data": {
      "text/html": [
       "<details><summary>Create strongly-typed dataframes using<code>#!linqify</code>.</summary>\r\n",
       "    <p>The <code>#!linqify</code> magic command replaces a <a href=\"https://www.nuget.org/packages/Microsoft.Data.Analysis/\"><code>Microsoft.Data.Analysis.DataFrame</code></a> variable with a generated, strongly-typed data frame, allowing the use of LINQ operations over the contained data.</p>\r\n",
       "    </details>"
      ]
     },
     "metadata": {},
     "output_type": "display_data"
    },
    {
     "data": {
      "text/html": [
       "<details><summary>ExplainCode</summary>\r\n",
       "    <p>This extension generates Sequence diagrams from csharp code using Mermaid kernel.</p>\r\n",
       "    </details>"
      ]
     },
     "metadata": {},
     "output_type": "display_data"
    },
    {
     "data": {
      "text/html": [
       "<details><summary>Inspect code compilation details using the <code>#!inspect</code> magic command.</summary>\r\n",
       "    <p>The <code>#!inspect</code> magic command allows you to see the C# decompilation, IL, and JIT Asm for the code in a C# cell.</p>\r\n",
       "    <img src=\"https://user-images.githubusercontent.com/547415/109560515-d5749a00-7a90-11eb-9fa3-51b737345bb4.png\" width=\"75%\" />\r\n",
       "    </details>"
      ]
     },
     "metadata": {},
     "output_type": "display_data"
    },
    {
     "data": {
      "text/html": [
       "<details><summary>Use the <code>#!record</code> magic command to keep a transcript of the code you run.</summary>\r\n",
       "    <p>Once you enable transcripts using <code>#!record</code>, each code submission (including re-running cells) is recorded in the specified file. The JSON format used is the same format recognized by the .NET Interactive <code>stdio</code> and <code>http</code> APIs and can be used to replay an interactive session via automation.</p>\r\n",
       "    <img src=\"https://user-images.githubusercontent.com/547415/109562409-343b1300-7a93-11eb-8ebf-79bb6af028cf.png\" width=\"75%\" />\r\n",
       "    </details>"
      ]
     },
     "metadata": {},
     "output_type": "display_data"
    },
    {
     "data": {
      "text/html": [
       "<details><summary>Query SQLite databases.</summary>\r\n",
       "    <p>This extension adds support for connecting to SQLite databases using the <code>#!connect sqlite</code> magic command. For more information, run a cell using the <code>#!sql</code> magic command.</p>\r\n",
       "    </details>"
      ]
     },
     "metadata": {},
     "output_type": "display_data"
    }
   ],
   "source": [
    "#r \"nuget:Microsoft.ML,*-*\"\n",
    "#r \"nuget:Microsoft.Data.Analysis, *-*\"\n",
    "#r \"nuget:Microsoft.DotNet.Interactive.ExtensionLab,*-*\"\n",
    "#r \"nuget:Microsoft.ML.FastTree, *-*\""
   ]
  },
  {
   "cell_type": "code",
   "execution_count": null,
   "metadata": {
    "dotnet_interactive": {
     "language": "csharp"
    },
    "vscode": {
     "languageId": "dotnet-interactive.csharp"
    }
   },
   "outputs": [],
   "source": [
    "using Microsoft.ML;\n",
    "using Microsoft.ML.Data;\n",
    "using Microsoft.Data.Analysis;\n",
    "\n",
    "using System.IO;\n",
    "using System.Text;"
   ]
  },
  {
   "cell_type": "markdown",
   "metadata": {},
   "source": [
    "2. Data Models"
   ]
  },
  {
   "cell_type": "code",
   "execution_count": null,
   "metadata": {
    "dotnet_interactive": {
     "language": "csharp"
    },
    "vscode": {
     "languageId": "dotnet-interactive.csharp"
    }
   },
   "outputs": [],
   "source": [
    "public class HousingData\n",
    "{\n",
    "    [LoadColumn(0)]\n",
    "    public float CrimeRate {get;set;}\n",
    "\n",
    "    [LoadColumn(1)]\n",
    "    public float Zoned {get;set;}\n",
    "\n",
    "    [LoadColumn(2)]\n",
    "    public float Proportion {get;set;}\n",
    "\n",
    "    [LoadColumn(3)]\n",
    "    public float RiverCoast {get;set;}\n",
    "\n",
    "    [LoadColumn(4)]\n",
    "    public float NOConcentration {get;set;}\n",
    "\n",
    "    [LoadColumn(5)]\n",
    "    public float NumOfRoomsPerDwelling {get;set;}\n",
    "\n",
    "    [LoadColumn(6)]\n",
    "    public float Age {get;set;}\n",
    "\n",
    "    [LoadColumn(7)]\n",
    "    public float EmployCenterDistance {get;set;}\n",
    "\n",
    "    [LoadColumn(8)]\n",
    "    public float HighwayAccessabilityRadius {get;set;}\n",
    "\n",
    "    [LoadColumn(9)]\n",
    "    public float TaxRate {get;set;}\n",
    "\n",
    "    [LoadColumn(10)]\n",
    "    public float PTRatio {get;set;}\n",
    "\n",
    "    [LoadColumn(11)]\n",
    "    public float MedianPrice {get;set;}\n",
    "}\n",
    "\n",
    "public class PricePredictions\n",
    "{\n",
    "    //Probability/estimations of continous values are found in Score column - ML.Net\n",
    "    [ColumnName(\"Score\")]\n",
    "    public float MedianPrice {get;set;}\n",
    "}"
   ]
  },
  {
   "cell_type": "markdown",
   "metadata": {},
   "source": [
    "3. Load and Split Data"
   ]
  },
  {
   "cell_type": "code",
   "execution_count": null,
   "metadata": {
    "dotnet_interactive": {
     "language": "csharp"
    },
    "vscode": {
     "languageId": "dotnet-interactive.csharp"
    }
   },
   "outputs": [],
   "source": [
    "var mlContext = new MLContext();\n",
    "var trainingDataView = mlContext.Data.LoadFromTextFile<HousingData>(\"../../ML.Net.Training/Datasets/boston_housing.csv\", hasHeader: true, separatorChar: ',');\n",
    "var dataSplit = mlContext.Data.TrainTestSplit(trainingDataView, testFraction: 0.2);"
   ]
  },
  {
   "cell_type": "code",
   "execution_count": null,
   "metadata": {
    "dotnet_interactive": {
     "language": "csharp"
    },
    "vscode": {
     "languageId": "dotnet-interactive.csharp"
    }
   },
   "outputs": [],
   "source": [
    "dataSplit.TestSet.ToTabularDataResource().Display();"
   ]
  },
  {
   "cell_type": "markdown",
   "metadata": {},
   "source": [
    "4. Train Model"
   ]
  },
  {
   "cell_type": "code",
   "execution_count": null,
   "metadata": {
    "dotnet_interactive": {
     "language": "csharp"
    },
    "vscode": {
     "languageId": "dotnet-interactive.csharp"
    }
   },
   "outputs": [],
   "source": [
    "var model = mlContext.Regression.Trainers.FastForest(\n",
    "    numberOfLeaves: 50,\n",
    "    numberOfTrees: 300\n",
    ");\n",
    "\n",
    "var pipeline = mlContext.Transforms.CopyColumns(\"Label\", nameof(HousingData.MedianPrice))\n",
    "                .Append(mlContext.Transforms.Categorical.OneHotEncoding(\"RiverCoast\"))\n",
    "                .Append(mlContext.Transforms.Concatenate(\"Features\", \n",
    "                    nameof(HousingData.CrimeRate),\n",
    "                    nameof(HousingData.Zoned),\n",
    "                    nameof(HousingData.Proportion),\n",
    "                    nameof(HousingData.RiverCoast),\n",
    "                    nameof(HousingData.NOConcentration),\n",
    "                    nameof(HousingData.NumOfRoomsPerDwelling),\n",
    "                    nameof(HousingData.Age),\n",
    "                    nameof(HousingData.EmployCenterDistance),\n",
    "                    nameof(HousingData.HighwayAccessabilityRadius),\n",
    "                    nameof(HousingData.TaxRate),\n",
    "                    nameof(HousingData.PTRatio),\n",
    "                    nameof(HousingData.MedianPrice)))\n",
    "                .Append(mlContext.Transforms.NormalizeMinMax(\"Features\", \"Features\"))\n",
    "                .Append(model);\n",
    "\n",
    "var trainedModel = pipeline.Fit(dataSplit.TrainSet);"
   ]
  },
  {
   "cell_type": "markdown",
   "metadata": {},
   "source": [
    "5. Evaluate Model"
   ]
  },
  {
   "cell_type": "code",
   "execution_count": null,
   "metadata": {
    "dotnet_interactive": {
     "language": "csharp"
    },
    "vscode": {
     "languageId": "dotnet-interactive.csharp"
    }
   },
   "outputs": [],
   "source": [
    "var testSet = trainedModel.Transform(dataSplit.TestSet);\n",
    "var metrics = mlContext.Regression.Evaluate(testSet);"
   ]
  },
  {
   "cell_type": "code",
   "execution_count": null,
   "metadata": {
    "dotnet_interactive": {
     "language": "csharp"
    },
    "vscode": {
     "languageId": "dotnet-interactive.csharp"
    }
   },
   "outputs": [
    {
     "data": {
      "text/html": [
       "<table><thead><tr><th>MeanAbsoluteError</th><th>MeanSquaredError</th><th>RootMeanSquaredError</th><th>LossFunction</th><th>RSquared</th></tr></thead><tbody><tr><td><div class=\"dni-plaintext\">16.915829084192712</div></td><td><div class=\"dni-plaintext\">1006.0162184502979</div></td><td><div class=\"dni-plaintext\">31.71775872362828</div></td><td><div class=\"dni-plaintext\">1006.0161997771356</div></td><td><div class=\"dni-plaintext\">0.9123524910597205</div></td></tr></tbody></table>"
      ]
     },
     "metadata": {},
     "output_type": "display_data"
    }
   ],
   "source": [
    "metrics"
   ]
  },
  {
   "cell_type": "markdown",
   "metadata": {},
   "source": [
    "6. Save Model"
   ]
  },
  {
   "cell_type": "code",
   "execution_count": null,
   "metadata": {
    "dotnet_interactive": {
     "language": "csharp"
    },
    "vscode": {
     "languageId": "dotnet-interactive.csharp"
    }
   },
   "outputs": [],
   "source": [
    "mlContext.Model.Save(trainedModel, dataSplit.TrainSet.Schema, \"./RandomForestRegressionModel.mdl\");"
   ]
  },
  {
   "cell_type": "markdown",
   "metadata": {},
   "source": [
    "7. Load and Predict Model"
   ]
  },
  {
   "cell_type": "code",
   "execution_count": null,
   "metadata": {
    "dotnet_interactive": {
     "language": "csharp"
    },
    "vscode": {
     "languageId": "dotnet-interactive.csharp"
    }
   },
   "outputs": [
    {
     "name": "stdout",
     "output_type": "stream",
     "text": [
      "197.47504\r\n"
     ]
    }
   ],
   "source": [
    "var newSample = new HousingData\n",
    "{\n",
    "    Age = 58.7f,\n",
    "    CrimeRate = 0.02985f,\n",
    "    EmployCenterDistance = 6.0622f,\n",
    "    HighwayAccessabilityRadius = 3f,\n",
    "    NOConcentration = 0.458f,\n",
    "    NumOfRoomsPerDwelling = 6.43f,\n",
    "    Proportion = 2.18f,\n",
    "    PTRatio = 18.7f,\n",
    "    RiverCoast = 0,\n",
    "    TaxRate = 222f,\n",
    "    Zoned = 0f\n",
    "};\n",
    "\n",
    "using (var stream = new FileStream(\"./RandomForestRegressionModel.mdl\", FileMode.Open, FileAccess.Read, FileShare.Read))\n",
    "{\n",
    "    var loadedModel = mlContext.Model.Load(stream, out _);\n",
    "    var predictionEngine = mlContext.Model.CreatePredictionEngine<HousingData, PricePredictions>(loadedModel);\n",
    "    \n",
    "    var results = predictionEngine.Predict(newSample);\n",
    "\n",
    "    Console.WriteLine(results.MedianPrice);\n",
    "}"
   ]
  }
 ],
 "metadata": {
  "kernelspec": {
   "display_name": ".NET (C#)",
   "language": "C#",
   "name": ".net-csharp"
  },
  "language_info": {
   "file_extension": ".cs",
   "mimetype": "text/x-csharp",
   "name": "C#",
   "pygments_lexer": "csharp",
   "version": "9.0"
  },
  "orig_nbformat": 4,
  "vscode": {
   "interpreter": {
    "hash": "369f2c481f4da34e4445cda3fffd2e751bd1c4d706f27375911949ba6bb62e1c"
   }
  }
 },
 "nbformat": 4,
 "nbformat_minor": 2
}
